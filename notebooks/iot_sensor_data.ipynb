{
 "cells": [
  {
   "cell_type": "markdown",
   "metadata": {},
   "source": [
    "# Example Sensor Data Analytics Notebook\n",
    "Examples of sensor telemetry analysis, using line charts, scatter plots, and histograms.  \n",
    "The data shows several distinct patterns and sensor anomalies, which can be analyzed, for example:\n",
    "1. Sensor anomalies in the data to be recorded\n",
    "2. Consistent cooling and heating pattern as a result of the HVAC system\n",
    "3. Very different 'micro-climates' between the some of the locations\n",
    "4. General stability of temperature and humidity in one location versus the other\n",
    "5. Impact of human activities on each location's temperature and hummidity"
   ]
  },
  {
   "cell_type": "code",
   "execution_count": null,
   "metadata": {
    "pycharm": {
     "is_executing": false
    }
   },
   "outputs": [],
   "source": [
    "import os\n",
    "\n",
    "import matplotlib.pyplot as plt\n",
    "import pandas as pd\n",
    "import pymongo\n",
    "from dateutil import tz\n",
    "from dotenv import load_dotenv\n",
    "from matplotlib.dates import DateFormatter\n",
    "from scipy.stats import norm\n",
    "\n",
    "%matplotlib inline"
   ]
  },
  {
   "cell_type": "markdown",
   "metadata": {},
   "source": [
    "## Load Environment Variables and Establish MongoDB Atlas Connection"
   ]
  },
  {
   "cell_type": "code",
   "execution_count": null,
   "metadata": {
    "pycharm": {
     "is_executing": false,
     "metadata": false,
     "name": "#%%\n"
    }
   },
   "outputs": [],
   "source": [
    "%%time\n",
    "# load env vars from local .env file\n",
    "load_dotenv()\n",
    "\n",
    "# establish db connection\n",
    "MONGODB_CONN = os.environ.get('MONGODB_CONN')\n",
    "MONGODB_DB = os.environ.get('MONGODB_DB')\n",
    "MONGODB_COL = os.environ.get('MONGODB_COL')\n",
    "\n",
    "client = pymongo.MongoClient(MONGODB_CONN)\n",
    "db = client[MONGODB_DB]\n",
    "iot_data = db[MONGODB_COL]"
   ]
  },
  {
   "cell_type": "markdown",
   "metadata": {},
   "source": [
    "### Define Panda DataFrames for Two DHT Sensors\n",
    "Panda DataFrames:\n",
    "1. DataFrame 1: df1 = rp59adf374\n",
    "2. DataFrame 2: df2 = rp829c7e0e\n",
    "3. DataFrame 3: df3 = rp47a3d9f5"
   ]
  },
  {
   "cell_type": "code",
   "execution_count": null,
   "metadata": {
    "pycharm": {
     "is_executing": false
    }
   },
   "outputs": [],
   "source": [
    "DEVICE_1 = 'rp59adf374'\n",
    "DEVICE_2 = 'rp829c7e0e'\n",
    "DEVICE_3 = 'rp47a3d9f5'"
   ]
  },
  {
   "cell_type": "markdown",
   "metadata": {},
   "source": [
    "### DataFrame 1"
   ]
  },
  {
   "cell_type": "code",
   "execution_count": null,
   "metadata": {
    "pycharm": {
     "is_executing": false,
     "metadata": false,
     "name": "#%%\n"
    }
   },
   "outputs": [],
   "source": [
    "%%time\n",
    "# aggregation created and exported from MongoDB Compass\n",
    "# ~72-hour period from 5/11/2019 8:00:00 PM - 5/14/2019 8:00:00 PM\n",
    "pipeline = [\n",
    "    {\n",
    "        '$match': {\n",
    "            'type': 'DHT22', \n",
    "            'device': DEVICE_1, \n",
    "            'timestamp': {\n",
    "                '$gt': 1557619200,\n",
    "                '$lt': 1557878400\n",
    "            }\n",
    "        }\n",
    "    }, {\n",
    "        '$project': {\n",
    "            '_id': 0,\n",
    "            'timestamp': 1, \n",
    "            'temperature': '$data.temperature', \n",
    "            'humidity': '$data.humidity'\n",
    "        }\n",
    "    }, {\n",
    "        '$sort': {\n",
    "            'timestamp': 1\n",
    "        }\n",
    "    }\n",
    "]\n",
    "aggResult = iot_data.aggregate(pipeline)\n",
    "df1 = pd.DataFrame(list(aggResult))\n",
    "\n",
    "# convert celsius to fahrenheit\n",
    "df1['temperature'] = ((df1.temperature * 1.8) + 32)\n",
    "\n",
    "# attempt to remove outliers (sensor anomalies)\n",
    "qt = df1['temperature'].quantile(0.01)\n",
    "df1 = df1[df1['temperature'] >= qt]\n",
    "qh = df1['humidity'].quantile(0.01)\n",
    "df1 = df1[df1['humidity'] >= qh]\n",
    "\n",
    "# convert timestamps to datetime\n",
    "df1['timestamp'] = pd.to_datetime(df1['timestamp'], unit='s')\n",
    "df1['timestamp'] = df1.timestamp.dt.tz_localize('UTC').dt.tz_convert('US/Eastern')"
   ]
  },
  {
   "cell_type": "code",
   "execution_count": null,
   "metadata": {
    "pycharm": {
     "is_executing": false
    }
   },
   "outputs": [],
   "source": [
    "df1.head()"
   ]
  },
  {
   "cell_type": "code",
   "execution_count": null,
   "metadata": {
    "pycharm": {
     "is_executing": false,
     "name": "#%%\n"
    }
   },
   "outputs": [],
   "source": [
    "df1['temperature'].describe()"
   ]
  },
  {
   "cell_type": "code",
   "execution_count": null,
   "metadata": {
    "pycharm": {
     "is_executing": false,
     "name": "#%%\n"
    }
   },
   "outputs": [],
   "source": [
    "df1['humidity'].describe()"
   ]
  },
  {
   "cell_type": "markdown",
   "metadata": {},
   "source": [
    "### DataFrame 2"
   ]
  },
  {
   "cell_type": "code",
   "execution_count": null,
   "metadata": {
    "pycharm": {
     "is_executing": false,
     "metadata": false,
     "name": "#%%\n"
    }
   },
   "outputs": [],
   "source": [
    "%%time\n",
    "# aggregation created and exported from MongoDB Compass\n",
    "# ~72-hour period from 5/11/2019 8:00:00 PM - 5/14/2019 8:00:00 PM\n",
    "pipeline = [\n",
    "    {\n",
    "        '$match': {\n",
    "            'type': 'DHT22', \n",
    "            'device': DEVICE_2, \n",
    "            'timestamp': {\n",
    "                '$gt': 1557619200,\n",
    "                '$lt': 1557878400\n",
    "            }\n",
    "        }\n",
    "    }, {\n",
    "        '$project': {\n",
    "            '_id': 0,\n",
    "            'timestamp': 1, \n",
    "            'temperature': '$data.temperature', \n",
    "            'humidity': '$data.humidity'\n",
    "        }\n",
    "    }, {\n",
    "        '$sort': {\n",
    "            'timestamp': 1\n",
    "        }\n",
    "    }\n",
    "]\n",
    "aggResult = iot_data.aggregate(pipeline)\n",
    "df2 = pd.DataFrame(list(aggResult))\n",
    "\n",
    "# convert celsius to fahrenheit\n",
    "df2['temperature'] = ((df2.temperature * 1.8) + 32)\n",
    "\n",
    "# attempt to remove outliers (sensor anomalies)\n",
    "qt = df2['temperature'].quantile(0.01)\n",
    "df2 = df2[df2['temperature'] >= qt]\n",
    "qh = df2['humidity'].quantile(0.01)\n",
    "df2 = df2[df2['humidity'] >= qh]\n",
    "\n",
    "# convert timestamps to datetime\n",
    "df2['timestamp'] = pd.to_datetime(df2['timestamp'], unit='s')\n",
    "df2['timestamp'] = df2.timestamp.dt.tz_localize('UTC').dt.tz_convert('US/Eastern')"
   ]
  },
  {
   "cell_type": "code",
   "execution_count": null,
   "metadata": {},
   "outputs": [],
   "source": [
    "df2.head()"
   ]
  },
  {
   "cell_type": "code",
   "execution_count": null,
   "metadata": {
    "pycharm": {
     "is_executing": false,
     "name": "#%%\n"
    }
   },
   "outputs": [],
   "source": [
    "df2['temperature'].describe()"
   ]
  },
  {
   "cell_type": "code",
   "execution_count": null,
   "metadata": {
    "pycharm": {
     "is_executing": false,
     "name": "#%%\n"
    }
   },
   "outputs": [],
   "source": [
    "df2['humidity'].describe()\n",
    "#### DataFrame 3"
   ]
  },
  {
   "cell_type": "code",
   "execution_count": null,
   "metadata": {
    "pycharm": {
     "name": "#%%\n"
    }
   },
   "outputs": [],
   "source": [
    "%%time\n",
    "# aggregation created and exported from MongoDB Compass\n",
    "# ~32-hour period\n",
    "# 2019-05-17 21:58:04.746520996-04:00\n",
    "# 2019-05-19 07:59:55.743566036-04:00\n",
    "pipeline = [\n",
    "    {\n",
    "        '$match': {\n",
    "            'type': 'DHT22', \n",
    "            'device': DEVICE_3, \n",
    "            'timestamp': {\n",
    "                '$gt': 1558094400,\n",
    "                '$lt': 1558267200\n",
    "            }\n",
    "        }\n",
    "    }, {\n",
    "        '$project': {\n",
    "            '_id': 0, \n",
    "            'timestamp': 1, \n",
    "            'temperature': '$data.temperature', \n",
    "            'humidity': '$data.humidity'\n",
    "        }\n",
    "    }, {\n",
    "        '$sort': {\n",
    "            'timestamp': 1\n",
    "        }\n",
    "    }\n",
    "]\n",
    "aggResult = iot_data.aggregate(pipeline)\n",
    "df3 = pd.DataFrame(list(aggResult))\n",
    "\n",
    "# convert celsius to fahrenheit\n",
    "df3['temperature'] = ((df3.temperature * 1.8) + 32)\n",
    "\n",
    "# attempt to remove outliers (sensor anomalies)\n",
    "qt = df3['temperature'].quantile(0.01)\n",
    "df3 = df3[df3['temperature'] >= qt]\n",
    "qh = df3['humidity'].quantile(0.01)\n",
    "df3 = df3[df3['humidity'] >= qh]\n",
    "\n",
    "# convert timestamps to datetime\n",
    "df3['timestamp'] = pd.to_datetime(df3['timestamp'], unit='s')\n",
    "df3['timestamp'] = df3.timestamp.dt.tz_localize('UTC').dt.tz_convert('US/Eastern')"
   ]
  },
  {
   "cell_type": "code",
   "execution_count": null,
   "metadata": {
    "pycharm": {
     "name": "#%%\n"
    }
   },
   "outputs": [],
   "source": [
    "df3.head()\n",
    "# df3.tail()"
   ]
  },
  {
   "cell_type": "code",
   "execution_count": null,
   "metadata": {
    "pycharm": {
     "name": "#%%\n"
    }
   },
   "outputs": [],
   "source": [
    "df3['temperature'].describe()"
   ]
  },
  {
   "cell_type": "code",
   "execution_count": null,
   "metadata": {
    "pycharm": {
     "name": "#%%\n"
    }
   },
   "outputs": [],
   "source": [
    "df3['humidity'].describe()"
   ]
  },
  {
   "cell_type": "markdown",
   "metadata": {},
   "source": [
    "### Temperature Graphs using Moving Average\n",
    "* Using Pandas `pandas.DataFrame.plot`\n",
    "* Smoothing data using the mean average of a 5 minute rolling window (moving average)\n",
    "* 5 minutes = (20) data-points @ 15 second intervals (4/min)\n",
    "* Reference: https://en.wikipedia.org/wiki/Moving_average"
   ]
  },
  {
   "cell_type": "code",
   "execution_count": null,
   "metadata": {
    "pycharm": {
     "is_executing": false,
     "metadata": false,
     "name": "#%%\n"
    },
    "scrolled": false
   },
   "outputs": [],
   "source": [
    "df1['mean'] = df1['temperature'].rolling(window=20).mean()\n",
    "line1 = df1.plot.line(x='timestamp', \n",
    "                             y=['mean'], \n",
    "                             figsize=(15, 5), \n",
    "                             label=[DEVICE_1], \n",
    "                             title='Average Temperature over Time',\n",
    "                             grid=True)\n",
    "\n",
    "df2['mean'] = df2['temperature'].rolling(window=20).mean()\n",
    "line2 = df2.plot.line(x='timestamp', \n",
    "                             y=['mean'], \n",
    "                             figsize=(15, 5), \n",
    "                             label=[DEVICE_2],\n",
    "                             title='Average Temperature over Time',\n",
    "                             grid=True)\n",
    "\n",
    "df3['mean'] = df3['temperature'].rolling(window=20).mean()\n",
    "line3 = df3.plot.line(x='timestamp', \n",
    "                             y=['mean'], \n",
    "                             figsize=(15, 5), \n",
    "                             label=[DEVICE_3],\n",
    "                             title='Average Temperature over Time',\n",
    "                             grid=True)"
   ]
  },
  {
   "cell_type": "markdown",
   "metadata": {},
   "source": [
    "## Temperature and Humidity Comparisons\n",
    "* Using `matplotlib.pyplot`\n",
    "* Comparing two different device's data\n",
    "* First temperature, then humidity"
   ]
  },
  {
   "cell_type": "code",
   "execution_count": null,
   "metadata": {
    "pycharm": {
     "is_executing": false,
     "metadata": false,
     "name": "#%%\n"
    },
    "scrolled": false
   },
   "outputs": [],
   "source": [
    "fig, ax = plt.subplots(2, 1, figsize=(15, 12))\n",
    "\n",
    "ax[0].plot(df1['timestamp'], df1['temperature'], linestyle='solid', marker='None', label=DEVICE_1)\n",
    "ax[0].plot(df2['timestamp'], df2['temperature'], linestyle='solid', marker='None', label=DEVICE_2)\n",
    "ax[0].plot(df3['timestamp'], df3['temperature'], linestyle='solid', marker='None', label=DEVICE_3)\n",
    "ax[0].xaxis.set_major_formatter(DateFormatter('%m-%d %H:%M', tz=tz.gettz('US/Eastern')))\n",
    "ax[0].legend()\n",
    "ax[0].set_title('Temperature Comparison')\n",
    "ax[0].set_xlabel('Time')\n",
    "ax[0].set_ylabel('Temperature (F)')\n",
    "ax[0].grid(color='silver', linestyle='-', linewidth=1, alpha=0.5)\n",
    "\n",
    "ax[1].plot(df1['timestamp'], df1['humidity'], linestyle='solid', marker='None', label=DEVICE_1)\n",
    "ax[1].plot(df2['timestamp'], df2['humidity'], linestyle='solid', marker='None', label=DEVICE_2)\n",
    "ax[1].plot(df3['timestamp'], df3['humidity'], linestyle='solid', marker='None', label=DEVICE_3)\n",
    "ax[1].xaxis.set_major_formatter(DateFormatter('%m-%d %H:%M', tz=tz.gettz('US/Eastern')))\n",
    "ax[1].legend()\n",
    "ax[1].set_title('Humidity Comparison')\n",
    "ax[1].set_xlabel('Time')\n",
    "ax[1].set_ylabel('Humidity (%)')\n",
    "ax[1].grid(color='silver', linestyle='-', linewidth=1, alpha=0.5)\n",
    "\n",
    "fig.subplots_adjust(hspace=0.3)\n",
    "plt.show()"
   ]
  },
  {
   "cell_type": "markdown",
   "metadata": {},
   "source": [
    "### Scatter Plot Comparisons\n",
    "* Using `matplotlib.pyplot`\n",
    "* X Axis = temperature\n",
    "* Y Axis = humidity"
   ]
  },
  {
   "cell_type": "code",
   "execution_count": null,
   "metadata": {
    "pycharm": {
     "is_executing": false
    }
   },
   "outputs": [],
   "source": [
    "fig, ax = plt.subplots(4, 1, figsize=(12, 16))\n",
    "\n",
    "ax[0].scatter(df1['temperature'], df1['humidity'], alpha=0.5, label=DEVICE_1, color='C0')\n",
    "ax[0].legend()\n",
    "ax[0].set_xlabel('Temperature (F)')\n",
    "ax[0].set_ylabel('Humidity (%)')\n",
    "\n",
    "ax[1].scatter(df2['temperature'], df2['humidity'], alpha=0.5, label=DEVICE_2, color='C1')\n",
    "ax[1].legend()\n",
    "ax[1].set_xlabel('Temperature (F)')\n",
    "ax[1].set_ylabel('Humidity (%)')\n",
    "\n",
    "ax[2].scatter(df3['temperature'], df3['humidity'], alpha=0.5, label=DEVICE_3, color='C2')\n",
    "ax[2].legend()\n",
    "ax[2].set_xlabel('Temperature (F)')\n",
    "ax[2].set_ylabel('Humidity (%)')\n",
    "\n",
    "ax[3].scatter(df1['temperature'], df1['humidity'], alpha=0.5, label=DEVICE_1, color='C0')\n",
    "ax[3].scatter(df2['temperature'], df2['humidity'], alpha=0.5, label=DEVICE_2, color='C1')\n",
    "ax[3].scatter(df3['temperature'], df3['humidity'], alpha=0.5, label=DEVICE_3, color='C2')\n",
    "ax[3].legend()\n",
    "ax[3].set_xlabel('Temperature (F)')\n",
    "ax[3].set_ylabel('Humidity (%)')\n",
    "\n",
    "fig.suptitle('Temperature/Humidity Scatter Plot', fontsize=16)\n",
    "fig.tight_layout(rect=[0, 0.04, 1, 0.95])\n",
    "fig.subplots_adjust(hspace=0.3)\n",
    "plt.show()"
   ]
  },
  {
   "cell_type": "markdown",
   "metadata": {},
   "source": [
    "### Histogram: Temperature Distribution\n",
    "* Matplotlib Histogram using `matplotlib.pyplot.hist`\n",
    "* Reference Code: https://pythonspot.com/matplotlib-histogram"
   ]
  },
  {
   "cell_type": "code",
   "execution_count": null,
   "metadata": {},
   "outputs": [],
   "source": [
    "df = df1['temperature']\n",
    "\n",
    "mu = df.mean() # mean of distribution\n",
    "sigma = df.std() # standard deviation of distribution\n",
    "x = df # data distribution\n",
    "num_bins = 20\n",
    "\n",
    "# the histogram of the data\n",
    "n, bins, patches = plt.hist(x, num_bins, density=1, facecolor='blue', alpha=0.33)\n",
    "\n",
    "# add a 'best fit' line\n",
    "y = norm.pdf(bins, mu, sigma)\n",
    "plt.plot(bins, y, 'r--')\n",
    "plt.xlabel('Temperature (F)')\n",
    "plt.ylabel('Frequency')\n",
    "plt.title('Histogram of Temperature')\n",
    "\n",
    "# output\n",
    "print('dataframe: df1')\n",
    "print('data: temperature')\n",
    "print('mu (\\u03BC): %.2f' % mu)\n",
    "print('sigma (\\u03C3): %.2f' % sigma)\n",
    "\n",
    "# tweak spacing to prevent clipping of ylabel\n",
    "plt.subplots_adjust(left=0.15)\n",
    "plt.show()"
   ]
  },
  {
   "cell_type": "code",
   "execution_count": null,
   "metadata": {},
   "outputs": [],
   "source": [
    "df = df2['temperature']\n",
    "\n",
    "mu = df.mean() # mean of distribution\n",
    "sigma = df.std() # standard deviation of distribution\n",
    "x = df # data distribution\n",
    "num_bins = 20\n",
    "\n",
    "# the histogram of the data\n",
    "n, bins, patches = plt.hist(x, num_bins, density=1, facecolor='blue', alpha=0.33)\n",
    "\n",
    "# add a 'best fit' line\n",
    "y = norm.pdf(bins, mu, sigma)\n",
    "plt.plot(bins, y, 'r--')\n",
    "plt.xlabel('Temperature (F)')\n",
    "plt.ylabel('Frequency')\n",
    "plt.title('Histogram of Temperature')\n",
    "\n",
    "# output\n",
    "print('dataframe: df2')\n",
    "print('data: temperature')\n",
    "print('mu (\\u03BC): %.2f' % mu)\n",
    "print('sigma (\\u03C3): %.2f' % sigma)\n",
    "\n",
    "# tweak spacing to prevent clipping of ylabel\n",
    "plt.subplots_adjust(left=0.15)\n",
    "plt.show()"
   ]
  }
 ],
 "metadata": {
  "kernelspec": {
   "display_name": "PyCharm (iot-gcp)",
   "language": "python",
   "name": "pycharm-db77046e"
  },
  "language_info": {
   "codemirror_mode": {
    "name": "ipython",
    "version": 3
   },
   "file_extension": ".py",
   "mimetype": "text/x-python",
   "name": "python",
   "nbconvert_exporter": "python",
   "pygments_lexer": "ipython3",
   "version": "3.7.3"
  },
  "pycharm": {
   "stem_cell": {
    "cell_type": "raw",
    "metadata": {
     "collapsed": false
    },
    "source": []
   }
  }
 },
 "nbformat": 4,
 "nbformat_minor": 1
}
