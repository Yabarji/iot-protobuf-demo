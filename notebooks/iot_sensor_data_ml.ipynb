{
 "cells": [
  {
   "cell_type": "markdown",
   "metadata": {},
   "source": [
    "# Example Sensor Data ML Notebook\n",
    "Examples of humidity and temperature sensor telemetry Machine Learning (ML) using scikit-learn (https://scikit-learn.org/stable/)"
   ]
  },
  {
   "cell_type": "code",
   "execution_count": null,
   "metadata": {
    "pycharm": {
     "is_executing": false
    }
   },
   "outputs": [],
   "source": [
    "import os\n",
    "import warnings\n",
    "\n",
    "import joblib\n",
    "import matplotlib.pyplot as plt\n",
    "import pandas as pd\n",
    "import pymongo\n",
    "from dotenv import load_dotenv\n",
    "from mlxtend.plotting import plot_decision_regions\n",
    "from sklearn import preprocessing\n",
    "from sklearn.ensemble import RandomForestClassifier\n",
    "from sklearn.model_selection import cross_val_score, train_test_split\n",
    "from sklearn.neighbors import KNeighborsClassifier\n",
    "from sklearn.svm import SVC\n",
    "\n",
    "warnings.filterwarnings('ignore')\n",
    "%matplotlib inline"
   ]
  },
  {
   "cell_type": "markdown",
   "metadata": {},
   "source": [
    "## Load Environment Variables and Establish MongoDB Atlas Connection"
   ]
  },
  {
   "cell_type": "code",
   "execution_count": null,
   "metadata": {
    "pycharm": {
     "is_executing": false,
     "name": "#%%\n"
    }
   },
   "outputs": [],
   "source": [
    "%%time\n",
    "# load env vars from local .env file\n",
    "load_dotenv()\n",
    "\n",
    "# establish db connection\n",
    "MONGODB_CONN = os.environ.get('MONGODB_CONN')\n",
    "MONGODB_DB = os.environ.get('MONGODB_DB')\n",
    "MONGODB_COL = os.environ.get('MONGODB_COL')\n",
    "\n",
    "client = pymongo.MongoClient(MONGODB_CONN)\n",
    "db = client[MONGODB_DB]\n",
    "iot_data = db[MONGODB_COL]"
   ]
  },
  {
   "cell_type": "markdown",
   "metadata": {},
   "source": [
    "## Define Panda DataFrames for (3) DHT Sensors\n",
    "Panda DataFrames:\n",
    "1. DataFrame 1: df1 = rb47a3d9f5\n",
    "2. DataFrame 2: df2 = rp829c7e0e\n",
    "3. DataFrame 3: df3 = rp47a3d9f5"
   ]
  },
  {
   "cell_type": "code",
   "execution_count": null,
   "metadata": {
    "pycharm": {
     "is_executing": false,
     "name": "#%%\n"
    }
   },
   "outputs": [],
   "source": [
    "DEVICE_1 = 'rp59adf374'\n",
    "DEVICE_2 = 'rp829c7e0e'\n",
    "DEVICE_3 = 'rp47a3d9f5'"
   ]
  },
  {
   "cell_type": "markdown",
   "metadata": {},
   "source": [
    "### DataFrame 1"
   ]
  },
  {
   "cell_type": "code",
   "execution_count": null,
   "metadata": {
    "pycharm": {
     "is_executing": false,
     "name": "#%%\n"
    }
   },
   "outputs": [],
   "source": [
    "%%time\n",
    "# aggregation created and exported from MongoDB Compass\n",
    "# ~72-hour period from 5/11/2019 8:00:00 PM - 5/14/2019 8:00:00 PM\n",
    "pipeline = [\n",
    "    {\n",
    "        '$match': {\n",
    "            'type': 'DHT22', \n",
    "            'device': DEVICE_1, \n",
    "            'timestamp': {\n",
    "                '$gt': 1557619200,\n",
    "                '$lt': 1557878400\n",
    "            }\n",
    "        }\n",
    "    }, {\n",
    "        '$project': {\n",
    "            '_id': 0,\n",
    "            'device': 1,\n",
    "            'temperature': '$data.temperature', \n",
    "            'humidity': '$data.humidity'\n",
    "        }\n",
    "    }\n",
    "]\n",
    "aggResult = iot_data.aggregate(pipeline)\n",
    "df1 = pd.DataFrame(list(aggResult))\n",
    "\n",
    "# convert celsius to fahrenheit\n",
    "df1['temperature'] = ((df1.temperature * 1.8) + 32)\n",
    "\n",
    "# attempt to remove outliers (sensor anomalies)\n",
    "qt = df1['temperature'].quantile(0.01)\n",
    "df1 = df1[df1['temperature'] >= qt]\n",
    "qh = df1['humidity'].quantile(0.01)\n",
    "df1 = df1[df1['humidity'] >= qh]"
   ]
  },
  {
   "cell_type": "markdown",
   "metadata": {},
   "source": [
    "### DataFrame 2"
   ]
  },
  {
   "cell_type": "code",
   "execution_count": null,
   "metadata": {
    "pycharm": {
     "is_executing": false,
     "name": "#%%\n"
    }
   },
   "outputs": [],
   "source": [
    "%%time\n",
    "# aggregation created and exported from MongoDB Compass\n",
    "# ~72-hour period from 5/11/2019 8:00:00 PM - 5/14/2019 8:00:00 PM\n",
    "pipeline = [\n",
    "    {\n",
    "        '$match': {\n",
    "            'type': 'DHT22', \n",
    "            'device': DEVICE_2, \n",
    "            'timestamp': {\n",
    "                '$gt': 1557619200,\n",
    "                '$lt': 1557878400\n",
    "            }\n",
    "        }\n",
    "    }, {\n",
    "        '$project': {\n",
    "            '_id': 0,\n",
    "            'device': 1,\n",
    "            'temperature': '$data.temperature', \n",
    "            'humidity': '$data.humidity'\n",
    "        }\n",
    "    }\n",
    "]\n",
    "aggResult = iot_data.aggregate(pipeline)\n",
    "df2 = pd.DataFrame(list(aggResult))\n",
    "\n",
    "# convert celsius to fahrenheit\n",
    "df2['temperature'] = ((df2.temperature * 1.8) + 32)\n",
    "\n",
    "# attempt to remove outliers (sensor anomalies)\n",
    "qt = df2['temperature'].quantile(0.01)\n",
    "df2 = df2[df2['temperature'] >= qt]\n",
    "qh = df2['humidity'].quantile(0.01)\n",
    "df2 = df2[df2['humidity'] >= qh]"
   ]
  },
  {
   "cell_type": "markdown",
   "metadata": {},
   "source": [
    "### DataFrame 3"
   ]
  },
  {
   "cell_type": "code",
   "execution_count": null,
   "metadata": {
    "pycharm": {
     "is_executing": false,
     "name": "#%%\n"
    }
   },
   "outputs": [],
   "source": [
    "%%time\n",
    "# aggregation created and exported from MongoDB Compass\n",
    "# ~32-hour period\n",
    "# 2019-05-17 21:58:04.746520996-04:00\n",
    "# 2019-05-19 07:59:55.743566036-04:00\n",
    "pipeline = [\n",
    "    {\n",
    "        '$match': {\n",
    "            'type': 'DHT22', \n",
    "            'device': DEVICE_3, \n",
    "            'timestamp': {\n",
    "                '$gt': 1558094400,\n",
    "                '$lt': 1558267200\n",
    "            }\n",
    "        }\n",
    "    }, {\n",
    "        '$project': {\n",
    "            '_id': 0, \n",
    "            'device': 1,\n",
    "            'temperature': '$data.temperature', \n",
    "            'humidity': '$data.humidity'\n",
    "        }\n",
    "    }\n",
    "]\n",
    "aggResult = iot_data.aggregate(pipeline)\n",
    "df3 = pd.DataFrame(list(aggResult))\n",
    "\n",
    "# convert celsius to fahrenheit\n",
    "df3['temperature'] = ((df3.temperature * 1.8) + 32)\n",
    "\n",
    "# attempt to remove outliers (sensor anomalies)\n",
    "qt = df3['temperature'].quantile(0.01)\n",
    "df3 = df3[df3['temperature'] >= qt]\n",
    "qh = df3['humidity'].quantile(0.01)\n",
    "df3 = df3[df3['humidity'] >= qh]"
   ]
  },
  {
   "cell_type": "markdown",
   "metadata": {},
   "source": [
    "## Prepare Data for Modeling"
   ]
  },
  {
   "cell_type": "code",
   "execution_count": null,
   "metadata": {
    "pycharm": {
     "is_executing": false,
     "name": "#%%\n"
    }
   },
   "outputs": [],
   "source": [
    "# concat the (3) dataframes (different iot devices)\n",
    "df_devices = [df1, df2, df3]\n",
    "df_devices = pd.concat(df_devices, sort=False)\n",
    "df_devices = df_devices.sample(frac=1)\n",
    "\n",
    "# split dataframe into data and labels numpy.ndarray's\n",
    "X = df_devices.iloc[:, [1,2]].values\n",
    "y = df_devices.iloc[:, 0].values\n",
    "\n",
    "# encode labels with value between 0 and n_classes-1\n",
    "le = preprocessing.LabelEncoder()\n",
    "le.fit(y)\n",
    "y = le.transform(y)\n",
    "\n",
    "print('df_devices:\\n', df_devices.head(5), '\\n')\n",
    "print('X:\\n', X[:5], '\\n')\n",
    "print('y:\\n', y[:10], '\\n')"
   ]
  },
  {
   "cell_type": "code",
   "execution_count": null,
   "metadata": {
    "pycharm": {
     "is_executing": false
    }
   },
   "outputs": [],
   "source": [
    "# split data into training and testing data\n",
    "test_size = 0.25\n",
    "seed = 7\n",
    "X_train, X_test, y_train, y_test = train_test_split(X, y, test_size=test_size, random_state=seed)\n",
    "print('X_train:', X_train.shape)\n",
    "print('X_test:', X_test.shape)"
   ]
  },
  {
   "cell_type": "markdown",
   "metadata": {},
   "source": [
    "### Model/Data Plotting Function"
   ]
  },
  {
   "cell_type": "code",
   "execution_count": null,
   "metadata": {
    "pycharm": {
     "is_executing": false,
     "name": "#%%\n"
    }
   },
   "outputs": [],
   "source": [
    "def plot_model(clf, title):\n",
    "    fig = plt.figure(figsize=(11,7))\n",
    "    fig = plot_decision_regions(X, y, clf=clf, legend=1)\n",
    "    plt.xlabel('Humidity (%)')\n",
    "    plt.ylabel('Temperature (°F)')\n",
    "    plt.title(title)\n",
    "    plt.legend()\n",
    "    plt.show()"
   ]
  },
  {
   "cell_type": "markdown",
   "metadata": {},
   "source": [
    "### Computing Cross-Validation Metrics\n",
    "<https://scikit-learn.org/stable/modules/cross_validation.html>"
   ]
  },
  {
   "cell_type": "code",
   "execution_count": null,
   "metadata": {
    "pycharm": {
     "is_executing": false,
     "name": "#%%\n"
    }
   },
   "outputs": [],
   "source": [
    "def cross_validation(model):\n",
    "    model.score(X_test, y_test) \n",
    "    scores = cross_val_score(model, X_test, y_test, cv=5)\n",
    "    return (\"Model accuracy: %0.2f (+/- %0.2f)\" % (scores.mean(), scores.std() * 2))"
   ]
  },
  {
   "cell_type": "markdown",
   "metadata": {},
   "source": [
    "### Make Predictions using Model"
   ]
  },
  {
   "cell_type": "code",
   "execution_count": null,
   "metadata": {
    "pycharm": {
     "is_executing": false
    }
   },
   "outputs": [],
   "source": [
    "def make_prediction(model, x, y):\n",
    "    return le.inverse_transform(model.predict([[x, y]]))[0]"
   ]
  },
  {
   "cell_type": "markdown",
   "metadata": {},
   "source": [
    "### Saving/Loading Models"
   ]
  },
  {
   "cell_type": "code",
   "execution_count": null,
   "metadata": {
    "pycharm": {
     "is_executing": false,
     "name": "#%%\n"
    }
   },
   "outputs": [],
   "source": [
    "def save_restore_model(model):\n",
    "    # now you can save it to a file\n",
    "    joblib_file = \"joblib_model.pkl\"  \n",
    "    joblib.dump(model, joblib_file)\n",
    "\n",
    "    # load from file\n",
    "    joblib_model = joblib.load(joblib_file)\n",
    "\n",
    "    # test loaded model\n",
    "    print(make_prediction(model, 70, 65))\n",
    "    print(make_prediction(model, 50, 70))\n",
    "    print(make_prediction(model, 50, 65))"
   ]
  },
  {
   "cell_type": "markdown",
   "metadata": {},
   "source": [
    "## Predictions using Support Vector Machine\n",
    "Support vector machines (SVMs) are a set of supervised learning methods used for classification, regression and outliers detection.\n",
    "\n",
    "References:\n",
    "* <https://scikit-learn.org/stable/modules/generated/sklearn.svm.SVC.html>\n",
    "* <https://www.analyticsvidhya.com/blog/2017/09/understaing-support-vector-machine-example-code>\n",
    "* <https://scikit-learn.org/stable/modules/svm.html#kernel-functions>"
   ]
  },
  {
   "cell_type": "code",
   "execution_count": null,
   "metadata": {
    "pycharm": {
     "is_executing": false
    },
    "scrolled": false
   },
   "outputs": [],
   "source": [
    "%%time\n",
    "# train C-Support Vector Classification (SVC) model and plot\n",
    "model = SVC(kernel='linear', C=1, gamma='auto')\n",
    "model.fit(X_train, y_train)\n",
    "plot_model(model, 'SVC with linear kernel')"
   ]
  },
  {
   "cell_type": "code",
   "execution_count": null,
   "metadata": {
    "pycharm": {
     "is_executing": false,
     "name": "#%%\n"
    }
   },
   "outputs": [],
   "source": [
    "# use linear SVC model\n",
    "print(cross_validation(model))\n",
    "print(make_prediction(model, 70, 65))\n",
    "print(make_prediction(model, 50, 70))\n",
    "print(make_prediction(model, 50, 65))\n",
    "save_restore_model(model)"
   ]
  },
  {
   "cell_type": "code",
   "execution_count": null,
   "metadata": {
    "pycharm": {
     "is_executing": false,
     "name": "#%%\n"
    }
   },
   "outputs": [],
   "source": [
    "%%time\n",
    "# train C-Support Vector Classification (SVC) model and plot\n",
    "model = SVC(kernel='rbf', C=1, gamma='auto')\n",
    "model.fit(X_train, y_train)\n",
    "plot_model(model, 'SVC with rbf kernel')"
   ]
  },
  {
   "cell_type": "code",
   "execution_count": null,
   "metadata": {},
   "outputs": [],
   "source": [
    "# use rbf SVC model\n",
    "print(cross_validation(model))\n",
    "print(make_prediction(model, 70, 65))\n",
    "print(make_prediction(model, 50, 70))\n",
    "print(make_prediction(model, 50, 65))"
   ]
  },
  {
   "cell_type": "markdown",
   "metadata": {},
   "source": [
    "## Predictions using K-Nearest Neighbors Classifier\n",
    "* k-nearest neighbors algorithm (k-NN)\n",
    "* <https://en.wikipedia.org/wiki/K-nearest_neighbor_algorithm>"
   ]
  },
  {
   "cell_type": "code",
   "execution_count": null,
   "metadata": {
    "pycharm": {
     "is_executing": false
    }
   },
   "outputs": [],
   "source": [
    "%%time\n",
    "# train k-NN model and plot\n",
    "model = KNeighborsClassifier(n_neighbors=2, algorithm='auto')\n",
    "model.fit(X_train, y_train)\n",
    "plot_model(model, 'k-NN Classifier')"
   ]
  },
  {
   "cell_type": "code",
   "execution_count": null,
   "metadata": {
    "pycharm": {
     "is_executing": false
    }
   },
   "outputs": [],
   "source": [
    "# use k-NN model\n",
    "print(cross_validation(model))\n",
    "print(make_prediction(model, 70, 65))\n",
    "print(make_prediction(model, 50, 70))\n",
    "print(make_prediction(model, 50, 65))"
   ]
  },
  {
   "cell_type": "markdown",
   "metadata": {},
   "source": [
    "## Predictions using Random Forest Classifier\n",
    "* Estimator that fits a number of decision tree classifiers on various sub-samples of the dataset\n",
    "* Uses averaging to improve the predictive accuracy and control over-fitting\n",
    "* <https://scikit-learn.org/stable/modules/generated/sklearn.ensemble.RandomForestClassifier.html>"
   ]
  },
  {
   "cell_type": "code",
   "execution_count": null,
   "metadata": {
    "pycharm": {
     "is_executing": false
    }
   },
   "outputs": [],
   "source": [
    "%%time\n",
    "# train Random Forest Classifier model and plot\n",
    "model = RandomForestClassifier(n_estimators=100, max_depth=2, random_state=0)\n",
    "model.fit(X_train, y_train)\n",
    "plot_model(model, 'Random Forest Classifier')"
   ]
  },
  {
   "cell_type": "code",
   "execution_count": null,
   "metadata": {
    "pycharm": {
     "is_executing": false,
     "name": "#%%\n"
    }
   },
   "outputs": [],
   "source": [
    "# use Random Forest Classifier model\n",
    "print(cross_validation(model))\n",
    "print(make_prediction(model, 70, 65))\n",
    "print(make_prediction(model, 50, 70))\n",
    "print(make_prediction(model, 50, 65))"
   ]
  }
 ],
 "metadata": {
  "kernelspec": {
   "display_name": "PyCharm (iot-gcp)",
   "language": "python",
   "name": "pycharm-db77046e"
  },
  "language_info": {
   "codemirror_mode": {
    "name": "ipython",
    "version": 3
   },
   "file_extension": ".py",
   "mimetype": "text/x-python",
   "name": "python",
   "nbconvert_exporter": "python",
   "pygments_lexer": "ipython3",
   "version": "3.7.3"
  },
  "pycharm": {
   "stem_cell": {
    "cell_type": "raw",
    "metadata": {
     "collapsed": false
    },
    "source": []
   }
  }
 },
 "nbformat": 4,
 "nbformat_minor": 1
}
